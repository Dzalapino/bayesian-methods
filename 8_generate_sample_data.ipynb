{
  "nbformat": 4,
  "nbformat_minor": 0,
  "metadata": {
    "colab": {
      "provenance": []
    },
    "kernelspec": {
      "name": "python3",
      "display_name": "Python 3"
    },
    "language_info": {
      "name": "python"
    }
  },
  "cells": [
    {
      "cell_type": "code",
      "execution_count": 36,
      "metadata": {
        "id": "FaXGxnoW3XhX",
        "colab": {
          "base_uri": "https://localhost:8080/"
        },
        "outputId": "f4f934f2-194f-45d5-fa57-9850f8524231"
      },
      "outputs": [
        {
          "output_type": "stream",
          "name": "stdout",
          "text": [
            "100 answers for p_d = 0.1:\n",
            " [0 1 1 0 1 1 1 1 1 0 1 1 0 0 0 1 0 0 0 0 1 0 0 1 0 0 0 1 0 1 1 0 0 0 0 0 0\n",
            " 1 1 0 0 0 1 0 0 0 0 0 0 0 1 0 0 0 0 0 1 0 1 0 0 0 0 0 0 0 0 0 0 0 0 1 0 0\n",
            " 0 0 1 1 0 0 0 0 0 0 0 0 0 1 1 1 0 0 0 0 0 0 0 0 0 0]\n",
            "\n",
            "100 answers for p_d = 0.5:\n",
            " [0 1 1 1 0 1 1 0 0 1 1 0 1 1 0 0 1 1 0 0 0 0 0 1 0 0 1 1 0 1 1 0 0 0 1 1 1\n",
            " 1 0 0 1 1 1 0 0 1 0 0 0 1 1 0 1 1 0 1 1 0 1 1 0 1 1 1 1 1 0 1 0 0 0 1 0 0\n",
            " 0 0 1 0 0 1 0 1 0 0 0 0 0 0 1 1 1 1 1 1 1 1 1 0 1 1]\n",
            "\n",
            "100 answers for p_d = 0.9:\n",
            " [1 1 1 0 0 1 1 1 1 0 0 1 1 1 0 0 1 1 1 1 0 1 1 1 0 1 1 1 1 1 1 1 1 0 1 1 1\n",
            " 1 1 0 1 0 1 1 1 1 0 1 0 1 1 0 0 1 0 1 0 0 1 1 0 1 1 0 1 1 1 1 1 0 1 1 0 0\n",
            " 0 1 1 1 1 1 1 0 1 1 1 1 0 0 1 1 0 1 1 1 1 1 0 1 1 0] \n",
            "\n",
            "Preparing 50 surveys on group of 100 with probability of random student taking drugs of 0.1\n",
            "survey 1: number of yes answers - 23\n",
            "survey 2: number of yes answers - 28\n",
            "survey 3: number of yes answers - 33\n",
            "survey 4: number of yes answers - 30\n",
            "survey 5: number of yes answers - 25\n",
            "survey 6: number of yes answers - 32\n",
            "survey 7: number of yes answers - 29\n",
            "survey 8: number of yes answers - 24\n",
            "survey 9: number of yes answers - 35\n",
            "survey 10: number of yes answers - 29\n",
            "survey 11: number of yes answers - 34\n",
            "survey 12: number of yes answers - 29\n",
            "survey 13: number of yes answers - 40\n",
            "survey 14: number of yes answers - 31\n",
            "survey 15: number of yes answers - 34\n",
            "survey 16: number of yes answers - 29\n",
            "survey 17: number of yes answers - 38\n",
            "survey 18: number of yes answers - 31\n",
            "survey 19: number of yes answers - 38\n",
            "survey 20: number of yes answers - 27\n",
            "survey 21: number of yes answers - 38\n",
            "survey 22: number of yes answers - 30\n",
            "survey 23: number of yes answers - 34\n",
            "survey 24: number of yes answers - 32\n",
            "survey 25: number of yes answers - 27\n",
            "survey 26: number of yes answers - 33\n",
            "survey 27: number of yes answers - 31\n",
            "survey 28: number of yes answers - 32\n",
            "survey 29: number of yes answers - 28\n",
            "survey 30: number of yes answers - 30\n",
            "survey 31: number of yes answers - 36\n",
            "survey 32: number of yes answers - 32\n",
            "survey 33: number of yes answers - 28\n",
            "survey 34: number of yes answers - 31\n",
            "survey 35: number of yes answers - 26\n",
            "survey 36: number of yes answers - 36\n",
            "survey 37: number of yes answers - 23\n",
            "survey 38: number of yes answers - 25\n",
            "survey 39: number of yes answers - 33\n",
            "survey 40: number of yes answers - 24\n",
            "survey 41: number of yes answers - 34\n",
            "survey 42: number of yes answers - 26\n",
            "survey 43: number of yes answers - 35\n",
            "survey 44: number of yes answers - 36\n",
            "survey 45: number of yes answers - 38\n",
            "survey 46: number of yes answers - 34\n",
            "survey 47: number of yes answers - 22\n",
            "survey 48: number of yes answers - 30\n",
            "survey 49: number of yes answers - 32\n",
            "survey 50: number of yes answers - 34\n"
          ]
        }
      ],
      "source": [
        "import numpy as np\n",
        "\n",
        "def drug_survey(p_d=0.1, n_answers=100):\n",
        "  # Generate 100 samples using a binomial distribution with n=1 (Bernoulli trial) and the given probability\n",
        "  answers = np.random.binomial(n=1, p=0.25 + 0.5 * p_d, size=n_answers)\n",
        "  return answers\n",
        "\n",
        "def repeat_survey(n_surveys=50, p_d=0.1, n_answers=100):\n",
        "  print(f'Preparing {n_surveys} surveys on group of {n_answers} with probability of random student taking drugs of {p_d}')\n",
        "  for i in range(n_surveys):\n",
        "    survey = drug_survey(p_d, n_answers)\n",
        "    print(f'survey {i+1}: number of yes answers - {np.sum(survey)}')\n",
        "\n",
        "# 8 a\n",
        "\n",
        "print('100 answers for p_d = 0.1:\\n', drug_survey())\n",
        "print('\\n100 answers for p_d = 0.5:\\n', drug_survey(0.5))\n",
        "print('\\n100 answers for p_d = 0.9:\\n', drug_survey(0.9), '\\n')\n",
        "\n",
        "# 8 b\n",
        "repeat_survey()"
      ]
    }
  ]
}